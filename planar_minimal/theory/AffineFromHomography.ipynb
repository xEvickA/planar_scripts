{
 "cells": [
  {
   "cell_type": "code",
   "execution_count": 1,
   "metadata": {},
   "outputs": [],
   "source": [
    "import sympy as sp"
   ]
  },
  {
   "cell_type": "code",
   "execution_count": 4,
   "metadata": {},
   "outputs": [],
   "source": [
    "p_x, p_y = sp.symbols('p_x p_y')\n",
    "p = sp.ImmutableDenseMatrix([p_x, p_y, 1])\n",
    "H_11, H_12, H_13, H_21, H_22, H_23, H_31, H_32, H_33 = sp.symbols('H_11, H_12, H_13, H_21, H_22, H_23, H_31, H_32, H_33')\n",
    "H = sp.ImmutableDenseMatrix([[H_11, H_12, H_13], [H_21, H_22, H_23], [H_31, H_32, H_33]])"
   ]
  },
  {
   "cell_type": "code",
   "execution_count": 5,
   "metadata": {},
   "outputs": [
    {
     "name": "stdout",
     "output_type": "stream",
     "text": [
      "(H_11*p_x + H_12*p_y + H_13)/(H_31*p_x + H_32*p_y + H_33)\n"
     ]
    }
   ],
   "source": [
    "pp = H * p\n",
    "pp_x = pp[0] / pp[2]\n",
    "pp_y = pp[1] / pp[2]\n",
    "\n",
    "print(pp_x)"
   ]
  },
  {
   "cell_type": "code",
   "execution_count": 7,
   "metadata": {},
   "outputs": [
    {
     "name": "stdout",
     "output_type": "stream",
     "text": [
      "(H_11*(H_31*p_x + H_32*p_y + H_33) - H_31*(H_11*p_x + H_12*p_y + H_13))/(H_31*p_x + H_32*p_y + H_33)**2\n"
     ]
    }
   ],
   "source": [
    "A_11 = sp.diff(pp_x, p_x)\n",
    "print(A_11.simplify())\n",
    "A_12 = sp.diff(pp_x, p_y)\n",
    "A_21 = sp.diff(pp_y, p_x)\n",
    "A_22 = sp.diff(pp_y, p_y)"
   ]
  },
  {
   "cell_type": "code",
   "execution_count": null,
   "metadata": {},
   "outputs": [],
   "source": []
  }
 ],
 "metadata": {
  "kernelspec": {
   "display_name": "Python 3",
   "language": "python",
   "name": "python3"
  },
  "language_info": {
   "codemirror_mode": {
    "name": "ipython",
    "version": 3
   },
   "file_extension": ".py",
   "mimetype": "text/x-python",
   "name": "python",
   "nbconvert_exporter": "python",
   "pygments_lexer": "ipython3",
   "version": "3.8.5"
  }
 },
 "nbformat": 4,
 "nbformat_minor": 2
}
